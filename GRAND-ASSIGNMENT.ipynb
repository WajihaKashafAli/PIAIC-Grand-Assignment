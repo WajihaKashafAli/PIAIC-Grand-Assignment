{
 "cells": [
  {
   "cell_type": "markdown",
   "metadata": {},
   "source": [
    "# GRAND ASSIGNMENT \n",
    "# NAME:WAJIHA KASHAF ALI\n",
    "# ROLL NO:PIAIC180262\n",
    "# COURSE: ARTIFICIAL INTELLIGENCE\n",
    "# CENTER:USMAN INSTITUDE OF TECHNOLOGY\n",
    "# BATCH:36"
   ]
  },
  {
   "cell_type": "markdown",
   "metadata": {},
   "source": [
    "# Variables and Strings"
   ]
  },
  {
   "cell_type": "markdown",
   "metadata": {},
   "source": [
    "\n",
    "# 1.Simple Message: Assign a message to a variable, and then print that message"
   ]
  },
  {
   "cell_type": "code",
   "execution_count": 1,
   "metadata": {},
   "outputs": [
    {
     "name": "stdout",
     "output_type": "stream",
     "text": [
      "Hello WAJIHA\n"
     ]
    }
   ],
   "source": [
    "message = \"Hello WAJIHA\"\n",
    "print(message)"
   ]
  },
  {
   "cell_type": "markdown",
   "metadata": {},
   "source": [
    "\n",
    "   "
   ]
  },
  {
   "cell_type": "markdown",
   "metadata": {},
   "source": [
    "# 2.Find a quote from a famous person you admire. Print the quote and the name of its author. Your output should look something like the following, including the quotation marks:\n",
    "\n",
    "Albert Einstein once said, “A person who never made a mistake never tried anything new.”"
   ]
  },
  {
   "cell_type": "code",
   "execution_count": 3,
   "metadata": {},
   "outputs": [
    {
     "name": "stdout",
     "output_type": "stream",
     "text": [
      "Albert Einstein once said, “I am thankful for all of those who said NO to me. It’s because of them I’m doing it myself.”\n"
     ]
    }
   ],
   "source": [
    "print(\"Albert Einstein once said, “I am thankful for all of those who said NO to me. It’s because of them I’m doing it myself.”\")\n"
   ]
  },
  {
   "cell_type": "code",
   "execution_count": null,
   "metadata": {},
   "outputs": [],
   "source": []
  },
  {
   "cell_type": "markdown",
   "metadata": {},
   "source": [
    "# Calculate Area of a Circle:\n",
    "\n",
    "Write a Python program which accepts the radius of a circle from the user and compute the area.\n",
    "\n",
    "Program Console Sample Output 1:\n",
    "\n",
    "Input Radius: 0.5\n",
    "\n",
    "Area of Circle with radius 0.5 is 0.7853981634"
   ]
  },
  {
   "cell_type": "code",
   "execution_count": 13,
   "metadata": {},
   "outputs": [
    {
     "name": "stdout",
     "output_type": "stream",
     "text": [
      "Enter the Radius of the Circle: 0.5\n",
      "Area of the Circle: 0.7853981633974483\n"
     ]
    }
   ],
   "source": [
    "from math import pi\n",
    "\n",
    "print_area_of_the_circle = float(input(\"Enter the Radius of the Circle: \"))\n",
    "A = pi *(print_area_of_the_circle**2)\n",
    "\n",
    "print(\"Area of the Circle:\", A)"
   ]
  },
  {
   "cell_type": "code",
   "execution_count": null,
   "metadata": {},
   "outputs": [],
   "source": []
  },
  {
   "cell_type": "markdown",
   "metadata": {},
   "source": [
    "# Check Number either positive, negative or zero::\n",
    "        \n",
    "Write a Python program to check if a number is positive,\n",
    "\n",
    "negative or zero\n",
    "\n",
    "Program Console Sample Output 1:\n",
    "\n",
    "Enter Number: -1\n",
    "\n",
    "Negative Number Entered\n",
    "\n",
    "Program Console Sample Output 2:\n",
    "\n",
    "Integer: 3\n",
    "\n",
    "Positive Number Entered\n",
    "\n",
    "Program Console Sample Output 3:\n",
    "\n",
    "Integer: 0\n",
    "\n",
    "Zero Entered"
   ]
  },
  {
   "cell_type": "code",
   "execution_count": 43,
   "metadata": {},
   "outputs": [
    {
     "name": "stdout",
     "output_type": "stream",
     "text": [
      "Enter a number: -1\n",
      "Negative Number Entered\n"
     ]
    }
   ],
   "source": [
    "num = int(input(\"Enter a number: \"))\n",
    "if num > 0:\n",
    "    print(\"Positive Number Entered\")\n",
    "elif num < 0:\n",
    "    print(\"Negative Number Entered\")\n",
    "else:\n",
    "    print(\"Zero Entered\")"
   ]
  },
  {
   "cell_type": "code",
   "execution_count": 44,
   "metadata": {},
   "outputs": [
    {
     "name": "stdout",
     "output_type": "stream",
     "text": [
      "Enter a number: 3\n",
      "Positive Number Entered\n"
     ]
    }
   ],
   "source": [
    "num = int(input(\"Enter a number: \"))\n",
    "if num > 0:\n",
    "    print(\"Positive Number Entered\")\n",
    "elif num < 0:\n",
    "    print(\"Negative Number Entered\")\n",
    "else:\n",
    "    print(\"Zero Entered\")"
   ]
  },
  {
   "cell_type": "code",
   "execution_count": 45,
   "metadata": {},
   "outputs": [
    {
     "name": "stdout",
     "output_type": "stream",
     "text": [
      "Enter a number: 0\n",
      "Zero Entered\n"
     ]
    }
   ],
   "source": [
    "num = int(input(\"Enter a number: \"))\n",
    "if num > 0:\n",
    "    print(\"Positive Number Entered\")\n",
    "elif num < 0:\n",
    "    print(\"Negative Number Entered\")\n",
    "else:\n",
    "    print(\"Zero Entered\")"
   ]
  },
  {
   "cell_type": "code",
   "execution_count": null,
   "metadata": {},
   "outputs": [],
   "source": []
  },
  {
   "cell_type": "markdown",
   "metadata": {},
   "source": [
    "# Vowel Tester Write a Python program to test whether a passed letter is a vowel or not\n",
    "Program Console Output 1:\n",
    "\n",
    "Enter a character: A\n",
    "\n",
    "Letter A is Vowel\n",
    "\n",
    "Program Console Output 2:\n",
    "\n",
    "Enter a character: e\n",
    "\n",
    "Letter e is Vowel\n",
    "\n",
    "Program Console Output 2:\n",
    "\n",
    "Enter a character: N\n",
    "\n",
    "Letter N is not Vowel."
   ]
  },
  {
   "cell_type": "code",
   "execution_count": 40,
   "metadata": {},
   "outputs": [
    {
     "name": "stdout",
     "output_type": "stream",
     "text": [
      "Enter a Alphabet: A\n",
      "A is a Vowel\n"
     ]
    }
   ],
   "source": [
    "character=input(\"Enter a Alphabet: \")\n",
    "\n",
    "if (character == \"A\" or character == \"a\" or character == \"E\" or character == \"e\" or character == \"I\" or character == \"i\"\n",
    "or character == \"O\" or character == \"o\" or character == \"U\"  or character == \"u\"):\n",
    "    \n",
    "    print(character, \"is a Vowel\")\n",
    "else:\n",
    "     print(character, \"is not a Vowel\")\n",
    "    "
   ]
  },
  {
   "cell_type": "code",
   "execution_count": 41,
   "metadata": {},
   "outputs": [
    {
     "name": "stdout",
     "output_type": "stream",
     "text": [
      "Enter a Alphabet: e\n",
      "e is a Vowel\n"
     ]
    }
   ],
   "source": [
    "character=input(\"Enter a Alphabet: \")\n",
    "\n",
    "if (character == \"A\" or character == \"a\" or character == \"E\" or character == \"e\" or character == \"I\" or character == \"i\"\n",
    "or character == \"O\" or character == \"o\" or character == \"U\"  or character == \"u\"):\n",
    "    \n",
    "    print(character, \"is a Vowel\")\n",
    "else:\n",
    "     print(character, \"is not a Vowel\")"
   ]
  },
  {
   "cell_type": "code",
   "execution_count": 42,
   "metadata": {},
   "outputs": [
    {
     "name": "stdout",
     "output_type": "stream",
     "text": [
      "Enter a Alphabet: N\n",
      "N is not a Vowel\n"
     ]
    }
   ],
   "source": [
    "character=input(\"Enter a Alphabet: \")\n",
    "\n",
    "if (character == \"A\" or character == \"a\" or character == \"E\" or character == \"e\" or character == \"I\" or character == \"i\"\n",
    "or character == \"O\" or character == \"o\" or character == \"U\"  or character == \"u\"):\n",
    "    \n",
    "    print(character, \"is a Vowel\")\n",
    "else:\n",
    "     print(character, \"is not a Vowel\")"
   ]
  },
  {
   "cell_type": "code",
   "execution_count": null,
   "metadata": {},
   "outputs": [],
   "source": []
  },
  {
   "cell_type": "markdown",
   "metadata": {},
   "source": [
    "# BMI Calculator\n",
    "Write a Python program to calculate body mass index Program Console Sample 1:\n",
    "\n",
    "Enter Height in Cm: 180\n",
    "\n",
    "Enter Weight in Kg: 75\n",
    "\n",
    "Your BMI is 23.15"
   ]
  },
  {
   "cell_type": "code",
   "execution_count": 48,
   "metadata": {},
   "outputs": [
    {
     "name": "stdout",
     "output_type": "stream",
     "text": [
      "Enter Height in Cm: 180\n",
      "Enter Weight in Kg: 75\n",
      "Your BMI is  23.148148148148145\n"
     ]
    }
   ],
   "source": [
    "height = float(input(\"Enter Height in Cm: \"))\n",
    "weight = float(input(\"Enter Weight in Kg: \"))\n",
    "\n",
    "BMI = weight / (height/100)**2\n",
    "print(\"Your BMI is \", BMI)"
   ]
  },
  {
   "cell_type": "code",
   "execution_count": null,
   "metadata": {},
   "outputs": [],
   "source": []
  },
  {
   "cell_type": "markdown",
   "metadata": {},
   "source": [
    "# List::\n",
    "\n",
    "# Store the names of a few of your friends in a list called names\n",
    "\n",
    "Print each person’s name by accessing each element in the list, one at a time."
   ]
  },
  {
   "cell_type": "code",
   "execution_count": 76,
   "metadata": {},
   "outputs": [
    {
     "name": "stdout",
     "output_type": "stream",
     "text": [
      "Hira\n",
      "Ayesha\n",
      "Talha\n",
      "Shagufa\n",
      "Saba\n",
      "Hareem\n"
     ]
    }
   ],
   "source": [
    "names = [\"Hira\" , \"Ayesha\" , \"Talha\" , \"Shagufa\" , \"Saba\" , \"Hareem\"]\n",
    "print(names[0])\n",
    "print(names[1])\n",
    "print(names[2])\n",
    "print(names[3])\n",
    "print(names[4])\n",
    "print(names[5])"
   ]
  },
  {
   "cell_type": "markdown",
   "metadata": {},
   "source": [
    "# Start with the list you used in Question 4, but instead of just printing each person’s name, print a message to them. The text of each message should be the same, but each message should be personalized with the person’s name."
   ]
  },
  {
   "cell_type": "code",
   "execution_count": 9,
   "metadata": {},
   "outputs": [
    {
     "name": "stdout",
     "output_type": "stream",
     "text": [
      "Hira, You are my friend\n",
      "Ayesha, You are my friend\n",
      "Talha, You are my friend\n",
      "Shagufa, You are my friend\n",
      "Saba, You are my friend\n",
      "Hareem, You are my friend\n"
     ]
    }
   ],
   "source": [
    "names = [\"Hira,\" , \"Ayesha,\" , \"Talha,\" , \"Shagufa,\" , \"Saba,\" , \"Hareem,\"]\n",
    "print(names[0],\"You are my friend\")\n",
    "print(names[1],\"You are my friend\")\n",
    "print(names[2],\"You are my friend\")\n",
    "print(names[3],\"You are my friend\")\n",
    "print(names[4],\"You are my friend\")\n",
    "print(names[5],\"You are my friend\")"
   ]
  },
  {
   "cell_type": "code",
   "execution_count": 7,
   "metadata": {},
   "outputs": [
    {
     "name": "stdout",
     "output_type": "stream",
     "text": [
      "Hira ,You are my friend\n",
      "Ayesha ,You are my friend\n",
      "Talha ,You are my friend\n",
      "Shagufa ,You are my friend\n",
      "Saba ,You are my friend\n",
      "Hareem ,You are my friend\n"
     ]
    }
   ],
   "source": [
    "#another method\n",
    "for friend in names:\n",
    "    print(friend,\"You are my friend\")"
   ]
  },
  {
   "cell_type": "code",
   "execution_count": 1,
   "metadata": {},
   "outputs": [
    {
     "name": "stdout",
     "output_type": "stream",
     "text": [
      "Hi, Hira..!\n",
      "Ayesha,You are my friend ..!\n",
      "Hi, Shagufa..!\n",
      "Hi, Saba..!\n",
      "Hi, Hareem..!\n"
     ]
    }
   ],
   "source": [
    "#another method\n",
    "names = [\"Hira\" , \"Ayesha\" , \"Talha\" , \"Shagufa\" , \"Saba\" , \"Hareem\"]\n",
    "msg = names[0].title() + \",You are my friend \" + \"..!\"\n",
    "print(msg)\n",
    "\n",
    "msg = names[1].title() + \",You are my friend \" + \"..!\"\n",
    "print(msg)\n",
    "\n",
    "msg = names[2].title() + \",You are my friend \" +  \"..!\"\n",
    "\n",
    "msg = names[3].title() +  \",You are my friend \" + \"..!\"\n",
    "print(msg)\n",
    "\n",
    "msg = names[4].title() + \",You are my friend \" + \"..!\"\n",
    "print(msg)\n",
    "\n",
    "msg = names[5].title() + \",You are my friend \" + \"..!\"\n",
    "\n",
    "print(msg)"
   ]
  },
  {
   "cell_type": "markdown",
   "metadata": {},
   "source": [
    "# 10.Make a python program that conatains your nine favourite dishes in a list called foods. Print the message, The first three items in the list are:\n",
    "\n",
    "Then use a slice to print the first three items from that program’s list.\n",
    "\n",
    "Print the message, Three items from the middle of the list are:\n",
    "\n",
    "Use a slice to print three items from the middle of the list.\n",
    "\n",
    "Print the message, The last three items in the list are:\n",
    "\n",
    "Use a slice to print the last three items in the list."
   ]
  },
  {
   "cell_type": "code",
   "execution_count": 60,
   "metadata": {},
   "outputs": [
    {
     "name": "stdout",
     "output_type": "stream",
     "text": [
      "the first three items in the list are:  ['Chocolates', 'Pizza', 'Zinger']\n",
      "the first three items in the list are:  ['Pasta', 'Biryani', 'Tikka']\n",
      "the first three items in the list are:  ['Chinese', 'Spheghetti', 'Ice-cream']\n"
     ]
    }
   ],
   "source": [
    "foods = [\"Chocolates\" , \"Pizza\" , \"Zinger\" , \"Pasta\" , \"Biryani\" , \"Tikka\" , \"Chinese\" , \"Spheghetti\" , \"Ice-cream\"]\n",
    "print(\"the first three items in the list are: \" , foods[0:3])\n",
    "print(\"the first three items in the list are: \" , foods[3:6])\n",
    "print(\"the first three items in the list are: \" , foods[6:9])"
   ]
  },
  {
   "cell_type": "code",
   "execution_count": null,
   "metadata": {},
   "outputs": [],
   "source": []
  },
  {
   "cell_type": "markdown",
   "metadata": {},
   "source": [
    "# Start with your program from your last Question8. Make a copy of the list of foods, and call it friend_foods. Then, do the following:\n",
    "Add a new dish to the original list.\n",
    "\n",
    "Add a different dish to the list friend_foods.\n",
    "\n",
    "Prove that you have two separate lists.\n",
    "\n",
    "Print the message, My favorite pizzas are: and then use a for loop to print the first list.\n",
    "\n",
    "Print the message,\n",
    "\n",
    "My friend’s favorite foods are:, and then use a for loop to print the second list.\n",
    "\n",
    "NOTE: Make sure each new dish is stored in the appropriate list.\n",
    "\n"
   ]
  },
  {
   "cell_type": "code",
   "execution_count": 74,
   "metadata": {},
   "outputs": [
    {
     "name": "stdout",
     "output_type": "stream",
     "text": [
      "['Chocolates', 'Pizza', 'Zinger', 'Pasta', 'Biryani', 'tikka', 'Chinese', 'Spheghetti', 'Ice-cream', 'BBQ']\n",
      "\n",
      "['Chocolates', 'Pizza', 'Zinger', 'Pasta', 'Biryani', 'tikka', 'Chinese', 'Spheghetti', 'Ice-cream', 'donuts']\n",
      "\n",
      "My favorite foods names are:\n",
      "\n",
      "Chocolates \n",
      "\n",
      "Pizza \n",
      "\n",
      "Zinger \n",
      "\n",
      "Pasta \n",
      "\n",
      "Biryani \n",
      "\n",
      "tikka \n",
      "\n",
      "Chinese \n",
      "\n",
      "Spheghetti \n",
      "\n",
      "Ice-cream \n",
      "\n",
      "BBQ \n",
      "\n",
      "\n",
      "My Friend favorite foods names are:\n",
      "\n",
      "Chocolates \n",
      "\n",
      "Pizza \n",
      "\n",
      "Zinger \n",
      "\n",
      "Pasta \n",
      "\n",
      "Biryani \n",
      "\n",
      "tikka \n",
      "\n",
      "Chinese \n",
      "\n",
      "Spheghetti \n",
      "\n",
      "Ice-cream \n",
      "\n",
      "BBQ \n",
      "\n"
     ]
    }
   ],
   "source": [
    "foods = [\"Chocolates\" , \"Pizza\" , \"Zinger\" , \"Pasta\" , \"Biryani\" , \"tikka\" , \"Chinese\" , \"Spheghetti\" , \"Ice-cream\"]\n",
    "foods.append(\"BBQ\")\n",
    "print(foods)\n",
    "\n",
    "print()\n",
    "\n",
    "friends_foods = [\"Chocolates\" , \"Pizza\" , \"Zinger\" , \"Pasta\" , \"Biryani\" , \"tikka\" , \"Chinese\" , \"Spheghetti\" , \"Ice-cream\"]\n",
    "friends_foods.append(\"donuts\")\n",
    "print(friends_foods)\n",
    "\n",
    "print()\n",
    "\n",
    "print(\"My favorite foods names are:\" + \"\\n\")\n",
    "for items in foods:\n",
    "    print(items ,\"\\n\")\n",
    "    \n",
    "print()\n",
    "\n",
    "print(\"My Friend favorite foods names are:\" + \"\\n\")\n",
    "for items in foods:\n",
    "    print(items ,\"\\n\")\n",
    "    "
   ]
  }
 ],
 "metadata": {
  "kernelspec": {
   "display_name": "Python 3",
   "language": "python",
   "name": "python3"
  },
  "language_info": {
   "codemirror_mode": {
    "name": "ipython",
    "version": 3
   },
   "file_extension": ".py",
   "mimetype": "text/x-python",
   "name": "python",
   "nbconvert_exporter": "python",
   "pygments_lexer": "ipython3",
   "version": "3.8.5"
  }
 },
 "nbformat": 4,
 "nbformat_minor": 4
}
